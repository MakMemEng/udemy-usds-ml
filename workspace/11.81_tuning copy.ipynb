{
 "cells": [
  {
   "cell_type": "code",
   "execution_count": 1,
   "id": "e9fb3cae-94fd-49fe-b260-176b6be7fe1c",
   "metadata": {},
   "outputs": [],
   "source": [
    "import pandas as pd\n",
    "import numpy as np\n",
    "from sklearn.datasets import fetch_california_housing\n",
    "from sklearn.model_selection import train_test_split, GridSearchCV, KFold, RandomizedSearchCV, cross_val_score\n",
    "from sklearn.impute import SimpleImputer\n",
    "from sklearn.compose import ColumnTransformer\n",
    "from sklearn.base import BaseEstimator, TransformerMixin\n",
    "from sklearn.pipeline import Pipeline\n",
    "from scipy.stats import uniform\n",
    "from scipy.stats import randint as sp_randint\n",
    "\n",
    "import lightgbm as lgb\n",
    "from hyperopt import hp, tpe\n",
    "from hyperopt.fmin import fmin\n",
    "import plotly.express as px"
   ]
  },
  {
   "cell_type": "markdown",
   "id": "1ff9516d-b396-446a-9c24-a0eaae57371f",
   "metadata": {},
   "source": [
    "## Grid Search"
   ]
  },
  {
   "cell_type": "code",
   "execution_count": 2,
   "id": "a60f0dd0-f397-4835-a9e8-8ec746b0603a",
   "metadata": {},
   "outputs": [
    {
     "name": "stdout",
     "output_type": "stream",
     "text": [
      ".. _california_housing_dataset:\n",
      "\n",
      "California Housing dataset\n",
      "--------------------------\n",
      "\n",
      "**Data Set Characteristics:**\n",
      "\n",
      "    :Number of Instances: 20640\n",
      "\n",
      "    :Number of Attributes: 8 numeric, predictive attributes and the target\n",
      "\n",
      "    :Attribute Information:\n",
      "        - MedInc        median income in block group\n",
      "        - HouseAge      median house age in block group\n",
      "        - AveRooms      average number of rooms per household\n",
      "        - AveBedrms     average number of bedrooms per household\n",
      "        - Population    block group population\n",
      "        - AveOccup      average number of household members\n",
      "        - Latitude      block group latitude\n",
      "        - Longitude     block group longitude\n",
      "\n",
      "    :Missing Attribute Values: None\n",
      "\n",
      "This dataset was obtained from the StatLib repository.\n",
      "https://www.dcc.fc.up.pt/~ltorgo/Regression/cal_housing.html\n",
      "\n",
      "The target variable is the median house value for California districts,\n",
      "expressed in hundreds of thousands of dollars ($100,000).\n",
      "\n",
      "This dataset was derived from the 1990 U.S. census, using one row per census\n",
      "block group. A block group is the smallest geographical unit for which the U.S.\n",
      "Census Bureau publishes sample data (a block group typically has a population\n",
      "of 600 to 3,000 people).\n",
      "\n",
      "A household is a group of people residing within a home. Since the average\n",
      "number of rooms and bedrooms in this dataset are provided per household, these\n",
      "columns may take surprisingly large values for block groups with few households\n",
      "and many empty houses, such as vacation resorts.\n",
      "\n",
      "It can be downloaded/loaded using the\n",
      ":func:`sklearn.datasets.fetch_california_housing` function.\n",
      "\n",
      ".. topic:: References\n",
      "\n",
      "    - Pace, R. Kelley and Ronald Barry, Sparse Spatial Autoregressions,\n",
      "      Statistics and Probability Letters, 33 (1997) 291-297\n",
      "\n"
     ]
    }
   ],
   "source": [
    "# データロード\n",
    "dataset = fetch_california_housing()\n",
    "# データの説明\n",
    "print(dataset['DESCR'])"
   ]
  },
  {
   "cell_type": "code",
   "execution_count": null,
   "id": "2dbbf8fc-17c6-443d-9b25-a5b42fc8d238",
   "metadata": {},
   "outputs": [],
   "source": [
    "# データ準備\n",
    "X = pd.DataFrame(dataset['data'], columns=dataset['feature_names'])\n",
    "y = dataset['target']\n",
    "\n",
    "# hold-out\n",
    "X_train, X_val, y_train, y_val = train_test_split(X, y, test_size=0.2, random_state=0)\n",
    "\n",
    "# モデル\n",
    "lgbmr = lgb.LGBMRegressor(random_state=0)\n",
    "param_grid = {'num_leaves': [10, 20, 30, 40, 50, 60],\n",
    "              'max_depth': [5, 10, 15], \n",
    "              'reg_alpha': [0, 0.01, 0.03]}\n",
    "\n",
    "cv = KFold(n_splits=3, random_state=0, shuffle=True)\n",
    "gs = GridSearchCV(lgbmr, param_grid=param_grid, cv=cv)"
   ]
  },
  {
   "cell_type": "code",
   "execution_count": null,
   "id": "c2324398-c9cb-4059-a66d-a3576c3f33bf",
   "metadata": {
    "tags": []
   },
   "outputs": [],
   "source": [
    "# early_stopping\n",
    "callbacks = [lgb.early_stopping(stopping_rounds=10)]\n",
    "eval_set = [(X_val, y_val)]\n",
    "fit_params = {'callbacks': callbacks, 'eval_set': eval_set}\n",
    "gs.fit(X_train, y_train, **fit_params)"
   ]
  },
  {
   "cell_type": "code",
   "execution_count": null,
   "id": "aaff4927-31d4-4b02-bdcf-17a48194c4f9",
   "metadata": {},
   "outputs": [],
   "source": [
    "# grid searchの結果確認\n",
    "cv_results_df = pd.DataFrame(gs.cv_results_)\n",
    "cv_results_df.head(3)"
   ]
  },
  {
   "cell_type": "code",
   "execution_count": null,
   "id": "03707f46-5f2f-4c47-bd5d-4b7ef0ed16fa",
   "metadata": {},
   "outputs": [],
   "source": [
    "# top5の結果を表示\n",
    "for index, row in cv_results_df[cv_results_df['rank_test_score']<=5].iterrows():\n",
    "    print(f'{row[\"rank_test_score\"]}: {row[\"params\"]}')\n",
    "    print(f'{row[\"mean_test_score\"]}')\n",
    "    "
   ]
  },
  {
   "cell_type": "code",
   "execution_count": null,
   "id": "57457418-951b-4406-b51f-035c19374565",
   "metadata": {},
   "outputs": [],
   "source": [
    "# 最も良いハイパーパラメータの組み合わせで再度学習し評価\n",
    "lgbmr = lgb.LGBMRegressor(**gs.best_params_, random_state=0, learning_rate=0.01, n_estimators=1000)\n",
    "callbacks = [lgb.early_stopping(stopping_rounds=10)]\n",
    "eval_set = [(X_val, y_val)]\n",
    "fit_params = {'callbacks': callbacks, 'eval_set': eval_set}\n",
    "lgbmr.fit(X_train, y_train, **fit_params)"
   ]
  },
  {
   "cell_type": "code",
   "execution_count": null,
   "id": "7ae5d756-632d-4620-ada0-5f6d0830e850",
   "metadata": {},
   "outputs": [],
   "source": [
    "lgbmr.score(X_val, y_val)"
   ]
  },
  {
   "cell_type": "markdown",
   "id": "28474c1c-737b-4499-aa46-b35c3eb8ac5b",
   "metadata": {},
   "source": [
    "## Pipeline + Grid Search"
   ]
  },
  {
   "cell_type": "code",
   "execution_count": null,
   "id": "b131e9e7-d578-4dc6-a1f9-58e59d831bc9",
   "metadata": {},
   "outputs": [],
   "source": [
    "# データロード\n",
    "df = pd.read_csv('penguins_size.csv')\n",
    "# データクリーニング\n",
    "df.loc[df[df['sex']=='.'].index[0], 'sex'] = np.nan\n",
    "df.dropna(thresh=3, inplace=True)\n",
    "# X, y作成\n",
    "X = df.drop('species', axis=1)\n",
    "y = df['species']\n",
    "\n",
    "# 欠損値代入\n",
    "cat_cols = X.select_dtypes(exclude=np.number).columns.to_list()\n",
    "imputer = SimpleImputer(strategy='most_frequent')\n",
    "ct = ColumnTransformer([('cat_imputer', imputer, cat_cols)], remainder='passthrough')\n",
    "ct.set_output(transform='pandas')\n",
    "\n",
    "# OHE\n",
    "class GetDummies(BaseEstimator, TransformerMixin):\n",
    "    \n",
    "    def __init__(self):\n",
    "        self.columns = None\n",
    "        \n",
    "    def fit(self, X, y=None):\n",
    "        self.columns = pd.get_dummies(X).columns\n",
    "        return self\n",
    "    \n",
    "    def transform(self, X):\n",
    "        X_new = pd.get_dummies(X)\n",
    "        return X_new.reindex(columns=self.columns, fill_value=0)\n",
    "\n",
    "# モデル\n",
    "lgbmc = lgb.LGBMClassifier(random_state=0)\n",
    "    \n",
    "# pipeline\n",
    "pipeline = Pipeline([('impute',ct), ('dummy', GetDummies()), ('model', lgbmc)])\n",
    "\n",
    "# cv\n",
    "cv = KFold(n_splits=3, random_state=0, shuffle=True)\n",
    "\n",
    "# grid search\n",
    "# pipelineを使う場合はキーの接頭辞にtransformerの名前をつけることに注意\n",
    "param_grid = {'model__num_leaves': [10, 20, 30, 40, 50, 60],\n",
    "              'model__max_depth': [5, 10, 15], \n",
    "              'model__reg_alpha': [0, 0.01, 0.03]}\n",
    "gs = GridSearchCV(pipeline, param_grid=param_grid, cv=cv)\n",
    "gs.fit(X, y)"
   ]
  },
  {
   "cell_type": "code",
   "execution_count": null,
   "id": "c612bee2-dc19-4adf-b875-72ab4f604e4f",
   "metadata": {},
   "outputs": [],
   "source": [
    "cv_results_df = pd.DataFrame(gs.cv_results_)"
   ]
  },
  {
   "cell_type": "markdown",
   "id": "fe97e87b-caf5-43fd-8c60-69872fefa044",
   "metadata": {},
   "source": [
    "## Random Search CV"
   ]
  },
  {
   "cell_type": "code",
   "execution_count": null,
   "id": "84a35caf-027c-4a46-9128-2a88bb6c1670",
   "metadata": {
    "tags": []
   },
   "outputs": [],
   "source": [
    "# データ準備\n",
    "dataset = fetch_california_housing()\n",
    "X = pd.DataFrame(dataset['data'], columns=dataset['feature_names'])\n",
    "y = dataset['target']\n",
    "X_train, X_val, y_train, y_val = train_test_split(X, y, test_size=0.2, random_state=0)\n",
    "\n",
    "# モデル\n",
    "lgbmr = lgb.LGBMRegressor(random_state=0)\n",
    "param_dist = {'num_leaves': sp_randint(10, 60),\n",
    "              'max_depth': sp_randint(5, 15), \n",
    "              'reg_alpha': uniform(0, 0.03)}\n",
    "\n",
    "eval_set = [(X_val, y_val)]\n",
    "callbacks = [lgb.early_stopping(stopping_rounds=10)]\n",
    "fit_params = {'callbacks': callbacks, 'eval_set': eval_set}\n",
    "\n",
    "# cv\n",
    "cv = KFold(n_splits=3, shuffle=True, random_state=0)\n",
    "\n",
    "# random search\n",
    "rs = RandomizedSearchCV(lgbmr, param_distributions=param_dist, cv=cv, n_iter=36)\n",
    "rs.fit(X_train, y_train, **fit_params)"
   ]
  },
  {
   "cell_type": "code",
   "execution_count": null,
   "id": "e0e6113a-7ad3-4d04-bfef-5069b60a0c1f",
   "metadata": {},
   "outputs": [],
   "source": [
    "# random searchの結果確認\n",
    "cv_results_df = pd.DataFrame(rs.cv_results_)\n",
    "cv_results_df.head(3)"
   ]
  },
  {
   "cell_type": "code",
   "execution_count": null,
   "id": "c97c2326-ab65-4964-8bcc-a893c2b4be90",
   "metadata": {},
   "outputs": [],
   "source": [
    "# top5を表示\n",
    "for _, row in cv_results_df[cv_results_df['rank_test_score']<=5].iterrows():\n",
    "    print(f\"{row['rank_test_score']}: {row['params']}\")\n",
    "    print(f\"{row['mean_test_score']}\")"
   ]
  },
  {
   "cell_type": "code",
   "execution_count": null,
   "id": "16280b54-2a2f-48d5-89cb-d7bcc877b8b5",
   "metadata": {},
   "outputs": [],
   "source": [
    "# 1: {'max_depth': 15, 'num_leaves': 60, 'reg_alpha': 0.01} 0.8338051795879502\n",
    "rs.best_params_"
   ]
  },
  {
   "cell_type": "markdown",
   "id": "84bec9b1-6ce8-4880-a095-3ca59e664f3d",
   "metadata": {},
   "source": [
    "## ベイズ最適化"
   ]
  },
  {
   "cell_type": "code",
   "execution_count": null,
   "id": "d0d9cb70-bae7-455b-bb9a-f24503e75fc6",
   "metadata": {},
   "outputs": [],
   "source": [
    "# データの準備\n",
    "dataset = fetch_california_housing()\n",
    "X = pd.DataFrame(dataset['data'], columns=dataset['feature_names'])\n",
    "y = dataset['target']\n",
    "# 関数\n",
    "def objective(params):\n",
    "    \n",
    "    # paramsに入っている値は全てfloatなので，intにcastする\n",
    "    params = {'num_leaves': int(params['num_leaves']),\n",
    "             'max_depth': int(params['max_depth']), \n",
    "             'reg_alpha': params['reg_alpha']}\n",
    "    model = lgb.LGBMRegressor(**params, random_state=0)\n",
    "    cv = KFold(n_splits=3, shuffle=True, random_state=0)\n",
    "    scores = cross_val_score(model, X, y, cv=cv)\n",
    "    \n",
    "    # hyperoptにはlogを取る仕組みがないため別途logを保存させる\n",
    "    log['params'].append(params)\n",
    "    log['score'].append(scores.mean())\n",
    "    log['score_std'].append(scores.std())\n",
    "    \n",
    "    # 最小化をすることを目指すので，scoreは負の形にして低ければ精度が良いという形にする\n",
    "    return -scores.mean()\n",
    "\n",
    "space = {'num_leaves': hp.quniform('num_leaves', 10, 60, 2),\n",
    "         'max_depth': hp.quniform('max_depth', 5, 15, 2), \n",
    "         'reg_alpha': hp.uniform('reg_alpha', 0, 0.03)}\n",
    "\n",
    "log = {'params': [], 'score': [], 'score_std': []}\n",
    "best = fmin(objective, space=space, algo=tpe.suggest, max_evals=100)"
   ]
  },
  {
   "cell_type": "code",
   "execution_count": null,
   "id": "615bd350-29cc-4eb5-8f7c-31b7d8cdf8e7",
   "metadata": {},
   "outputs": [],
   "source": [
    "# logを確認\n",
    "log_df = pd.DataFrame(log)\n",
    "log_df = log_df.sort_values('score', ascending=False)\n",
    "log_df[['num_leaves', 'max_depth', 'reg_alpha']] = log_df.apply(lambda row: pd.Series(row['params']), axis=1)\n",
    "log_df.head(3)"
   ]
  },
  {
   "cell_type": "code",
   "execution_count": null,
   "id": "03758d5f-b89e-4c43-a442-45ca0ac84747",
   "metadata": {},
   "outputs": [],
   "source": [
    "# ベイズ最適化により選択された100個のハイパーパラメータの組み合わせを描画\n",
    "# スコアにより色を変えて，スコアが高い付近に組み合わせが集中していることが確認できる\n",
    "fig = px.scatter_3d(log_df, x='num_leaves', y='max_depth', z='reg_alpha', color='score')\n",
    "fig.show()"
   ]
  }
 ],
 "metadata": {
  "kernelspec": {
   "display_name": "docker-ml-env",
   "language": "python",
   "name": "docker-ml-env"
  },
  "language_info": {
   "codemirror_mode": {
    "name": "ipython",
    "version": 3
   },
   "file_extension": ".py",
   "mimetype": "text/x-python",
   "name": "python",
   "nbconvert_exporter": "python",
   "pygments_lexer": "ipython3",
   "version": "3.10.12"
  }
 },
 "nbformat": 4,
 "nbformat_minor": 5
}

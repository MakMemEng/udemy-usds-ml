{
 "cells": [
  {
   "cell_type": "code",
   "execution_count": null,
   "id": "ddc4e79a-d5b0-4355-9ff7-15c8c7fd4b4d",
   "metadata": {},
   "outputs": [],
   "source": [
    "import seaborn as sns\n",
    "import pandas as pd\n",
    "import numpy as np\n",
    "from sklearn.preprocessing import OrdinalEncoder\n",
    "from sklearn.model_selection import train_test_split\n",
    "from sklearn.metrics import roc_auc_score\n",
    "# !pip install xgboost\n",
    "import xgboost\n",
    "from xgboost import XGBClassifier\n",
    "# !pip install lightgbm\n",
    "import lightgbm as lgb\n",
    "# !pip install catboost\n",
    "from catboost import CatBoostClassifier, Pool"
   ]
  },
  {
   "cell_type": "code",
   "execution_count": null,
   "id": "f617227a-fd7d-4217-a73b-0ad12978cfed",
   "metadata": {},
   "outputs": [],
   "source": [
    "# データ準備\n",
    "df = sns.load_dataset('titanic')\n",
    "df.dropna(inplace=True)\n",
    "# X, yを作成\n",
    "X = df.drop(['survived', 'alive'], axis=1)\n",
    "y = df['survived']\n",
    "# ラベルエンコーディング\n",
    "oe = OrdinalEncoder()\n",
    "oe.set_output(transform='pandas')\n",
    "cat_cols = X.select_dtypes(exclude=np.number).columns.to_list()\n",
    "X[cat_cols] = oe.fit_transform(X[cat_cols])\n",
    "# hold-out\n",
    "X_train, X_test, y_train, y_test = train_test_split(X, y, test_size=0.3, random_state=0)"
   ]
  },
  {
   "cell_type": "markdown",
   "id": "cdf462fa-4789-4640-9e1d-0a3c16ca596e",
   "metadata": {
    "tags": []
   },
   "source": [
    "## XGBoost"
   ]
  },
  {
   "cell_type": "code",
   "execution_count": null,
   "id": "4944277c-38d4-455c-99b6-16673e7bc20e",
   "metadata": {},
   "outputs": [],
   "source": [
    "xgb = XGBClassifier(learning_rate=0.01,\n",
    "              eval_metric='auc',\n",
    "              early_stopping_rounds=10,\n",
    "              importance_type='total_gain',\n",
    "              random_state=0)\n",
    "# 学習\n",
    "xgb.fit(X_train, y_train, eval_set=[(X_test, y_test)], verbose=True)"
   ]
  },
  {
   "cell_type": "code",
   "execution_count": null,
   "id": "63f3ccbd-c846-4b30-905d-500d7c737849",
   "metadata": {},
   "outputs": [],
   "source": [
    "# 予測と評価\n",
    "y_pred_xgb = xgb.predict_proba(X_test)\n",
    "print(f\"xgboost AUC: {roc_auc_score(y_test, y_pred_xgb[:, 1])}\")"
   ]
  },
  {
   "cell_type": "code",
   "execution_count": null,
   "id": "cd69b899-02db-4b30-a7b4-90d8c8e7e3bf",
   "metadata": {},
   "outputs": [],
   "source": [
    "# 特徴量の重要度\n",
    "xgb.feature_importances_"
   ]
  },
  {
   "cell_type": "code",
   "execution_count": null,
   "id": "5dcb8a76-4fe0-4d07-809f-fe50bcfb65e4",
   "metadata": {},
   "outputs": [],
   "source": [
    "# 弱学習器の木構造を描画\n",
    "xgboost.plot_tree(xgb, num_trees=0)"
   ]
  },
  {
   "cell_type": "markdown",
   "id": "6d6fc079-8896-494b-9b24-4454b7589cff",
   "metadata": {},
   "source": [
    "### LightGBM"
   ]
  },
  {
   "cell_type": "code",
   "execution_count": null,
   "id": "9c82afb3-ccd6-4f3d-873c-d76576fb78ef",
   "metadata": {},
   "outputs": [],
   "source": [
    "lgbmc = lgb.LGBMClassifier(boosting_type='goss', max_depth=5, random_state=0)\n",
    "# early stoppingに使用する検証データ\n",
    "eval_set = [(X_test, y_test)]\n",
    "# イテレーション時に実施(callback)する関数\n",
    "callbacks = []\n",
    "callbacks.append(lgb.early_stopping(stopping_rounds=10))\n",
    "callbacks.append(lgb.log_evaluation())\n",
    "# 学習\n",
    "lgbmc.fit(X_train, y_train, eval_set=eval_set, callbacks=callbacks)"
   ]
  },
  {
   "cell_type": "code",
   "execution_count": null,
   "id": "cd77c462-3aa1-4d81-9a12-62dc204a03e8",
   "metadata": {},
   "outputs": [],
   "source": [
    "# 予測と評価\n",
    "y_pred_lgbmc = lgbmc.predict_proba(X_test)\n",
    "print(f\"light gbm AUC: {roc_auc_score(y_test, y_pred_lgbmc[:, 1])}\")"
   ]
  },
  {
   "cell_type": "code",
   "execution_count": null,
   "id": "1f60343e-80e5-4eb5-92c5-f6a79c638383",
   "metadata": {},
   "outputs": [],
   "source": [
    "# 学習曲線\n",
    "lgb.plot_metric(lgbmc)"
   ]
  },
  {
   "cell_type": "code",
   "execution_count": null,
   "id": "a9886875-0922-483c-9432-dfd3bf895c24",
   "metadata": {},
   "outputs": [],
   "source": [
    "# 弱学習器の木構造を描画\n",
    "lgb.plot_tree(lgbmc, tree_index=0)"
   ]
  },
  {
   "cell_type": "markdown",
   "id": "6813c5c9-c3e8-41f7-88a5-17e0c35f46af",
   "metadata": {},
   "source": [
    "### CatBoost"
   ]
  },
  {
   "cell_type": "code",
   "execution_count": null,
   "id": "b5bac969-8e4c-4aab-ad09-eb791ca47914",
   "metadata": {},
   "outputs": [],
   "source": [
    "# データ準備 (ラベルエンコーディングをしないバージョン)\n",
    "df = sns.load_dataset('titanic')\n",
    "df.dropna(inplace=True)\n",
    "# X, yを作成\n",
    "X = df.loc[:, (df.columns!='survived') & (df.columns!='alive')]\n",
    "y = df['survived']\n",
    "# カテゴリカル変数のカラム名のリスト\n",
    "cat_cols = X.select_dtypes(exclude=np.number).columns.to_list()\n",
    "# CatBoostはカテゴリカル編数の事前エンコーディングは不要\n",
    "# oe = OrdinalEncoder()\n",
    "# oe.set_output(transform='pandas')\n",
    "# X = oe.fit_transform(X)\n",
    "X_train, X_test, y_train, y_test = train_test_split(X, y, test_size=0.3, random_state=0)"
   ]
  },
  {
   "cell_type": "code",
   "execution_count": null,
   "id": "0afa1902-591f-4dd8-800e-abe24221637a",
   "metadata": {
    "tags": []
   },
   "outputs": [],
   "source": [
    "cbc = CatBoostClassifier(iterations=1000, learning_rate=0.01, cat_features=cat_cols)\n",
    "eval_set = [(X_test, y_test)]\n",
    "# 学習\n",
    "cbc.fit(X_train, y_train, eval_set=eval_set, early_stopping_rounds=10, verbose=True)"
   ]
  },
  {
   "cell_type": "code",
   "execution_count": null,
   "id": "162fbe51-efcf-4fde-80f0-8e4a3244c2b3",
   "metadata": {},
   "outputs": [],
   "source": [
    "# 予測と評価\n",
    "y_pred_cbc = cbc.predict_proba(X_test)\n",
    "print(f\"catboost AUC: {roc_auc_score(y_test, y_pred_cbc[:, 1])}\")"
   ]
  },
  {
   "cell_type": "code",
   "execution_count": null,
   "id": "d27a03f4-77db-4bff-a630-3a3e2eabc818",
   "metadata": {},
   "outputs": [],
   "source": [
    "# 弱学習器の描画\n",
    "# symmetric treeになっていることが確認できる\n",
    "pool = Pool(X_train, y_train, cat_features=cat_cols)\n",
    "cbc.plot_tree(tree_idx=1, pool=pool)"
   ]
  },
  {
   "cell_type": "code",
   "execution_count": null,
   "id": "1fd023a9-e5ac-42fc-9fa9-20637bc779a4",
   "metadata": {},
   "outputs": [],
   "source": []
  }
 ],
 "metadata": {
  "kernelspec": {
   "display_name": "Python 3 (ipykernel)",
   "language": "python",
   "name": "python3"
  },
  "language_info": {
   "codemirror_mode": {
    "name": "ipython",
    "version": 3
   },
   "file_extension": ".py",
   "mimetype": "text/x-python",
   "name": "python",
   "nbconvert_exporter": "python",
   "pygments_lexer": "ipython3",
   "version": "3.9.13"
  }
 },
 "nbformat": 4,
 "nbformat_minor": 5
}

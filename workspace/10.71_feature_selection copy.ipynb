{
 "cells": [
  {
   "cell_type": "code",
   "execution_count": 1,
   "id": "ec5a6ff8-835d-478f-b20b-50fd780b3820",
   "metadata": {},
   "outputs": [],
   "source": [
    "import pandas as pd\n",
    "import numpy as np\n",
    "from sklearn.impute import SimpleImputer\n",
    "from sklearn.base import BaseEstimator, TransformerMixin\n",
    "from sklearn.preprocessing import StandardScaler, PolynomialFeatures\n",
    "from sklearn.pipeline import Pipeline\n",
    "from sklearn.linear_model import LogisticRegression\n",
    "from sklearn.model_selection import KFold, cross_val_score\n",
    "from sklearn.feature_selection import RFE, RFECV, SelectFromModel\n",
    "from sklearn.tree import DecisionTreeClassifier\n",
    "from sklearn.ensemble import RandomForestClassifier"
   ]
  },
  {
   "cell_type": "markdown",
   "id": "ec88ce72-cf78-438c-92c5-524e06c73c73",
   "metadata": {},
   "source": [
    "## Greedy feature selection"
   ]
  },
  {
   "cell_type": "code",
   "execution_count": 6,
   "id": "45207210-d133-44e7-8320-84e7c273f75a",
   "metadata": {},
   "outputs": [],
   "source": [
    "# データ準備\n",
    "df = pd.read_csv('./workspace/penguins_size.csv')\n",
    "df.loc[df[df['sex']=='.'].index, 'sex'] = np.nan"
   ]
  },
  {
   "cell_type": "code",
   "execution_count": 7,
   "id": "af3fcf6d-d45c-439b-9d28-a8963da5ac95",
   "metadata": {},
   "outputs": [
    {
     "name": "stdout",
     "output_type": "stream",
     "text": [
      "<class 'pandas.core.frame.DataFrame'>\n",
      "RangeIndex: 344 entries, 0 to 343\n",
      "Data columns (total 7 columns):\n",
      " #   Column             Non-Null Count  Dtype  \n",
      "---  ------             --------------  -----  \n",
      " 0   species            344 non-null    object \n",
      " 1   island             344 non-null    object \n",
      " 2   culmen_length_mm   342 non-null    float64\n",
      " 3   culmen_depth_mm    342 non-null    float64\n",
      " 4   flipper_length_mm  342 non-null    float64\n",
      " 5   body_mass_g        342 non-null    float64\n",
      " 6   sex                333 non-null    object \n",
      "dtypes: float64(4), object(3)\n",
      "memory usage: 18.9+ KB\n"
     ]
    }
   ],
   "source": [
    "# 欠損値確認\n",
    "df.info()"
   ]
  },
  {
   "cell_type": "code",
   "execution_count": 8,
   "id": "e676d642-f549-4d06-8671-56f78d751b56",
   "metadata": {},
   "outputs": [],
   "source": [
    "# 欠損が多いデータは落とす\n",
    "df.dropna(thresh=3, inplace=True)"
   ]
  },
  {
   "cell_type": "code",
   "execution_count": 9,
   "id": "b66dfd2a-7cc0-4d5b-ac8f-9afafc567f85",
   "metadata": {},
   "outputs": [
    {
     "name": "stdout",
     "output_type": "stream",
     "text": [
      "<class 'pandas.core.frame.DataFrame'>\n",
      "Index: 342 entries, 0 to 343\n",
      "Data columns (total 7 columns):\n",
      " #   Column             Non-Null Count  Dtype  \n",
      "---  ------             --------------  -----  \n",
      " 0   species            342 non-null    object \n",
      " 1   island             342 non-null    object \n",
      " 2   culmen_length_mm   342 non-null    float64\n",
      " 3   culmen_depth_mm    342 non-null    float64\n",
      " 4   flipper_length_mm  342 non-null    float64\n",
      " 5   body_mass_g        342 non-null    float64\n",
      " 6   sex                333 non-null    object \n",
      "dtypes: float64(4), object(3)\n",
      "memory usage: 21.4+ KB\n"
     ]
    }
   ],
   "source": [
    "df.info()"
   ]
  },
  {
   "cell_type": "code",
   "execution_count": 12,
   "id": "c2f8f74e-615c-4ad0-b780-c50a9d34d1b8",
   "metadata": {},
   "outputs": [],
   "source": [
    "# X, y 作成\n",
    "X = df.drop('species', axis=1)\n",
    "y = df['species']\n",
    "\n",
    "# 欠損値代入\n",
    "imputer = SimpleImputer(strategy='constant', fill_value='NaN')\n",
    "imputer.set_output(transform='pandas')\n",
    "# X全体にfit_transformをすると，全てのカラムのDtypeがobjectになってしまい，後続のダミー変数作成の際に全カラムに対してOHEしてしまうため，\n",
    "# ここではsexカラムを指定して，sexカラムにのみ実施する\n",
    "X['sex'] = imputer.fit_transform(X[['sex']])\n",
    "\n",
    "# OHE\n",
    "class GetDummies(BaseEstimator, TransformerMixin):\n",
    "    \n",
    "    def __init__(self):\n",
    "        self.columns = None\n",
    "        \n",
    "    def fit(self, X, y=None):\n",
    "        self.columns = pd.get_dummies(X).columns\n",
    "        return self\n",
    "    \n",
    "    def transform(self, X):\n",
    "        X_new = pd.get_dummies(X)\n",
    "        return X_new.reindex(columns=self.columns, fill_value=0)\n",
    "\n",
    "# 特徴量エンジニアリング\n",
    "# 多項式特徴量\n",
    "poly = PolynomialFeatures(degree=2, include_bias=False)\n",
    "X[['culmen_length_mm', 'culmen_depth_mm', 'culmen_length_mm^2', 'culmen_length_mm * culmen_depth_mm', 'culmen_depth_mm^2']] = poly.fit_transform(X[['culmen_length_mm', 'culmen_depth_mm']])\n",
    "# 四則演算\n",
    "X['culmen_diff'] = X['culmen_length_mm'] - X['culmen_depth_mm']\n",
    "X['culmen_ratio'] = X['culmen_length_mm'] / X['culmen_depth_mm']\n",
    "\n",
    "# Pipeline\n",
    "pipeline = Pipeline([('dummy', GetDummies()),\n",
    "                     ('scaler', StandardScaler()),\n",
    "                     ('model', LogisticRegression())\n",
    "                     ])\n",
    "\n",
    "# cv\n",
    "cv = KFold(n_splits=3, random_state=0, shuffle=True)"
   ]
  },
  {
   "cell_type": "code",
   "execution_count": null,
   "id": "a6f34a87",
   "metadata": {},
   "outputs": [],
   "source": [
    "# GreedyFeatureSelection\n",
    "\n",
    "# こんな感じの使い方ができればいいだろう…\n",
    "# gfs = GreedyFeatureSelection(pipeline=pipeline, cv=cv)\n",
    "# gfs.select_feature(X, y)\n",
    "# gfs.scores()\n",
    "# gfs.selected_features()"
   ]
  },
  {
   "cell_type": "code",
   "execution_count": 17,
   "id": "d1a6497c-5158-432c-bb45-327937974711",
   "metadata": {},
   "outputs": [],
   "source": [
    "class GreedyFeatureSelection():\n",
    "    def __init__(self, pipeline, cv):\n",
    "        self.pipeline = pipeline\n",
    "        self.cv = cv\n",
    "        self.selected_features = []\n",
    "        self.scores = [0]\n",
    "    \"\"\"\n",
    "    :Parameter\n",
    "    X: pd.DataFrame()  # ndarray is not accepted.\n",
    "    y: pd.DataFrame() or pd.Series()\n",
    "    \n",
    "    Xがndarrayで渡された場合のエラーハンドリングを追加しても良いかも… \n",
    "    \"\"\"\n",
    "    def select_feature(self, X, y):\n",
    "\n",
    "        all_features = X.columns\n",
    "\n",
    "        while True:\n",
    "            # print('greedy selection started')\n",
    "            best_score = self.scores[-1]\n",
    "            candidate_feature = None\n",
    "            for feature in all_features:\n",
    "                if feature in self.selected_features:\n",
    "                    continue\n",
    "                # print(f'{feature} started')\n",
    "                features = self.selected_features + [feature]\n",
    "                X_train = X[features]\n",
    "                # 評価\n",
    "                score = cross_val_score(self.pipeline, X_train, y, cv=self.cv).mean()\n",
    "                if score > best_score:\n",
    "                    # print(f'best score updated {best_score} -> {score}')\n",
    "                    best_score = score\n",
    "                    candidate_feature = feature\n",
    "            if candidate_feature is not None:\n",
    "                # print(f'========{candidate_feature} is selected========')\n",
    "                self.scores.append(best_score)\n",
    "                self.selected_features.append(candidate_feature)\n",
    "            else:\n",
    "                break"
   ]
  },
  {
   "cell_type": "code",
   "execution_count": 18,
   "id": "7b160b8c-fca3-4fb9-8a48-3aede21454ba",
   "metadata": {},
   "outputs": [
    {
     "name": "stdout",
     "output_type": "stream",
     "text": [
      "[0, 0.9619883040935672, 0.9912280701754387, 0.9970760233918128, 1.0]\n",
      "['culmen_ratio', 'island', 'culmen_diff', 'body_mass_g']\n"
     ]
    }
   ],
   "source": [
    "# Greedy feature selection\n",
    "gfs = GreedyFeatureSelection(pipeline=pipeline, cv=cv)\n",
    "gfs.select_feature(X, y)\n",
    "# スコアの結果と選択された特徴量を確認\n",
    "print(gfs.scores)\n",
    "print(gfs.selected_features)"
   ]
  },
  {
   "cell_type": "markdown",
   "id": "4e8b2693-416d-451f-8bf6-64e756c680da",
   "metadata": {},
   "source": [
    "## RFE"
   ]
  },
  {
   "cell_type": "code",
   "execution_count": 19,
   "id": "09c31573-4018-4967-baa4-141336453a5d",
   "metadata": {},
   "outputs": [
    {
     "data": {
      "text/plain": [
       "array([[20.4       ,  2.09090909,  0.        ,  1.        ,  1.        ,\n",
       "         0.        ],\n",
       "       [22.1       ,  2.27011494,  0.        ,  1.        ,  0.        ,\n",
       "         0.        ],\n",
       "       [22.3       ,  2.23888889,  0.        ,  1.        ,  0.        ,\n",
       "         0.        ],\n",
       "       ...,\n",
       "       [34.7       ,  3.21019108,  0.        ,  0.        ,  1.        ,\n",
       "         0.        ],\n",
       "       [30.4       ,  3.05405405,  0.        ,  0.        ,  0.        ,\n",
       "         0.        ],\n",
       "       [33.8       ,  3.09937888,  0.        ,  0.        ,  1.        ,\n",
       "         0.        ]])"
      ]
     },
     "execution_count": 19,
     "metadata": {},
     "output_type": "execute_result"
    }
   ],
   "source": [
    "rfe = RFE(estimator=DecisionTreeClassifier(), n_features_to_select=6)\n",
    "X = pd.get_dummies(X, drop_first=True)\n",
    "rfe.fit(X, y)\n",
    "rfe.transform(X)"
   ]
  },
  {
   "cell_type": "code",
   "execution_count": 20,
   "id": "8a1df1d8-3c9c-4988-8761-39f5a64e1e68",
   "metadata": {},
   "outputs": [
    {
     "data": {
      "text/plain": [
       "array([8, 7, 6, 5, 4, 3, 2, 1, 1, 1, 1, 1, 1])"
      ]
     },
     "execution_count": 20,
     "metadata": {},
     "output_type": "execute_result"
    }
   ],
   "source": [
    "# 特徴量の重要度ランキング\n",
    "rfe.ranking_"
   ]
  },
  {
   "cell_type": "code",
   "execution_count": 21,
   "id": "e79e2f29-12d0-45ed-8710-9f2226db6a8b",
   "metadata": {},
   "outputs": [
    {
     "data": {
      "text/plain": [
       "array(['culmen_diff', 'culmen_ratio', 'island_Dream', 'island_Torgersen',\n",
       "       'sex_MALE', 'sex_NaN'], dtype=object)"
      ]
     },
     "execution_count": 21,
     "metadata": {},
     "output_type": "execute_result"
    }
   ],
   "source": [
    "# 選択された特徴量のリストを取得\n",
    "# rfe.feature_names_in_[rfe.ranking_==1]\n",
    "rfe.feature_names_in_[rfe.support_]"
   ]
  },
  {
   "cell_type": "code",
   "execution_count": 22,
   "id": "4e9ed89e-3aef-480e-8f73-47a1cb171685",
   "metadata": {},
   "outputs": [
    {
     "name": "stdout",
     "output_type": "stream",
     "text": [
      "[1.         1.         0.99122807]\n"
     ]
    }
   ],
   "source": [
    "# Pipelineに組み込む\n",
    "pipeline = Pipeline([('rfe', rfe), ('scaler', StandardScaler()), ('model', LogisticRegression())])\n",
    "scores = cross_val_score(pipeline, X, y, cv=cv)\n",
    "print(scores)"
   ]
  },
  {
   "cell_type": "code",
   "execution_count": 23,
   "id": "9b48402b-d3d9-47e0-bf82-0fd225835ba3",
   "metadata": {},
   "outputs": [
    {
     "data": {
      "text/plain": [
       "array([[20.4       ,  2.09090909,  0.        ],\n",
       "       [22.1       ,  2.27011494,  0.        ],\n",
       "       [22.3       ,  2.23888889,  0.        ],\n",
       "       ...,\n",
       "       [34.7       ,  3.21019108,  0.        ],\n",
       "       [30.4       ,  3.05405405,  0.        ],\n",
       "       [33.8       ,  3.09937888,  0.        ]])"
      ]
     },
     "execution_count": 23,
     "metadata": {},
     "output_type": "execute_result"
    }
   ],
   "source": [
    "# RFECV\n",
    "rfecv = RFECV(DecisionTreeClassifier(), cv=cv)\n",
    "rfecv.fit(X, y)\n",
    "rfecv.transform(X)"
   ]
  },
  {
   "cell_type": "code",
   "execution_count": 24,
   "id": "bfc7ed19-1535-4d28-be14-dbfc565a4961",
   "metadata": {},
   "outputs": [
    {
     "data": {
      "text/plain": [
       "array(['culmen_diff', 'culmen_ratio', 'island_Dream'], dtype=object)"
      ]
     },
     "execution_count": 24,
     "metadata": {},
     "output_type": "execute_result"
    }
   ],
   "source": [
    "rfecv.feature_names_in_[rfecv.support_]"
   ]
  },
  {
   "cell_type": "code",
   "execution_count": 29,
   "id": "d455015c-0c5a-473c-b6df-025d2136b96d",
   "metadata": {},
   "outputs": [
    {
     "data": {
      "text/plain": [
       "<ErrorbarContainer object of 3 artists>"
      ]
     },
     "execution_count": 29,
     "metadata": {},
     "output_type": "execute_result"
    },
    {
     "data": {
      "image/png": "[encoded data removed]",
      "text/plain": [
       "<Figure size 640x480 with 1 Axes>"
      ]
     },
     "metadata": {},
     "output_type": "display_data"
    }
   ],
   "source": [
    "# 特徴量の数と精度の推移を描画\n",
    "import matplotlib.pyplot as plt\n",
    "plt.errorbar(range(1, len(rfecv.cv_results_['mean_test_score'])+1),\n",
    "             rfecv.cv_results_['mean_test_score'],\n",
    "             yerr=rfecv.cv_results_['std_test_score']\n",
    "             )"
   ]
  },
  {
   "cell_type": "markdown",
   "id": "8acb28eb-909b-44e9-9703-5326f053824a",
   "metadata": {},
   "source": [
    "## モデルの係数や重要度で特徴量選択"
   ]
  },
  {
   "cell_type": "code",
   "execution_count": 30,
   "id": "ec5d35f4-eff5-4295-aeb0-fe41a9f09226",
   "metadata": {},
   "outputs": [
    {
     "data": {
      "text/plain": [
       "array([[ 39.1       ,  18.7       , 181.        , ..., 349.69      ,\n",
       "         20.4       ,   2.09090909],\n",
       "       [ 39.5       ,  17.4       , 186.        , ..., 302.76      ,\n",
       "         22.1       ,   2.27011494],\n",
       "       [ 40.3       ,  18.        , 195.        , ..., 324.        ,\n",
       "         22.3       ,   2.23888889],\n",
       "       ...,\n",
       "       [ 50.4       ,  15.7       , 222.        , ..., 246.49      ,\n",
       "         34.7       ,   3.21019108],\n",
       "       [ 45.2       ,  14.8       , 212.        , ..., 219.04      ,\n",
       "         30.4       ,   3.05405405],\n",
       "       [ 49.9       ,  16.1       , 213.        , ..., 259.21      ,\n",
       "         33.8       ,   3.09937888]])"
      ]
     },
     "execution_count": 30,
     "metadata": {},
     "output_type": "execute_result"
    }
   ],
   "source": [
    "# RandomForestを使って特徴量の重要度が低い特徴量を落とす\n",
    "sfm = SelectFromModel(estimator=RandomForestClassifier(random_state=0))\n",
    "X_selected = sfm.fit_transform(X, y)\n",
    "X_selected"
   ]
  },
  {
   "cell_type": "code",
   "execution_count": 31,
   "id": "a440e5e1-ac8c-4103-8c51-31eb26f856bd",
   "metadata": {},
   "outputs": [
    {
     "data": {
      "text/plain": [
       "array([0.08924232, 0.07961904, 0.09933245, 0.0525517 , 0.08072858,\n",
       "       0.01467092, 0.10925035, 0.14543881, 0.24562145, 0.07424349,\n",
       "       0.00630753, 0.00299336, 0.        ])"
      ]
     },
     "execution_count": 31,
     "metadata": {},
     "output_type": "execute_result"
    }
   ],
   "source": [
    "# .estimator_で特徴量選択に使用したモデルにアクセス\n",
    "sfm.estimator_.feature_importances_"
   ]
  },
  {
   "cell_type": "code",
   "execution_count": 32,
   "id": "7b29bfd5-e503-46d6-a748-d0754f6c60dd",
   "metadata": {},
   "outputs": [
    {
     "data": {
      "text/plain": [
       "array(['culmen_length_mm', 'culmen_depth_mm', 'flipper_length_mm',\n",
       "       'culmen_length_mm^2', 'culmen_depth_mm^2', 'culmen_diff',\n",
       "       'culmen_ratio'], dtype=object)"
      ]
     },
     "execution_count": 32,
     "metadata": {},
     "output_type": "execute_result"
    }
   ],
   "source": [
    "# 選択された特徴量のリストを取得\n",
    "sfm.feature_names_in_[sfm.get_support()]"
   ]
  },
  {
   "cell_type": "markdown",
   "id": "ccdcbfc6-458d-476e-ab22-a8258f25e9ba",
   "metadata": {},
   "source": [
    "## L1正則化項で特徴量選択"
   ]
  },
  {
   "cell_type": "code",
   "execution_count": 33,
   "id": "97f461eb-8586-43fb-a92d-a73f381b8e13",
   "metadata": {},
   "outputs": [
    {
     "data": {
      "text/html": [
       "<div>\n",
       "<style scoped>\n",
       "    .dataframe tbody tr th:only-of-type {\n",
       "        vertical-align: middle;\n",
       "    }\n",
       "\n",
       "    .dataframe tbody tr th {\n",
       "        vertical-align: top;\n",
       "    }\n",
       "\n",
       "    .dataframe thead th {\n",
       "        text-align: right;\n",
       "    }\n",
       "</style>\n",
       "<table border=\"1\" class=\"dataframe\">\n",
       "  <thead>\n",
       "    <tr style=\"text-align: right;\">\n",
       "      <th></th>\n",
       "      <th>culmen_length_mm</th>\n",
       "      <th>culmen_depth_mm</th>\n",
       "      <th>flipper_length_mm</th>\n",
       "      <th>body_mass_g</th>\n",
       "      <th>culmen_length_mm * culmen_depth_mm</th>\n",
       "      <th>culmen_depth_mm^2</th>\n",
       "      <th>culmen_diff</th>\n",
       "      <th>culmen_ratio</th>\n",
       "      <th>island_Dream</th>\n",
       "      <th>island_Torgersen</th>\n",
       "      <th>sex_MALE</th>\n",
       "    </tr>\n",
       "  </thead>\n",
       "  <tbody>\n",
       "    <tr>\n",
       "      <th>0</th>\n",
       "      <td>-0.884499</td>\n",
       "      <td>0.785449</td>\n",
       "      <td>-1.418347</td>\n",
       "      <td>-0.564142</td>\n",
       "      <td>-0.170197</td>\n",
       "      <td>0.768371</td>\n",
       "      <td>-1.024588</td>\n",
       "      <td>-1.036429</td>\n",
       "      <td>-0.754193</td>\n",
       "      <td>2.388699</td>\n",
       "      <td>1.017700</td>\n",
       "    </tr>\n",
       "    <tr>\n",
       "      <th>1</th>\n",
       "      <td>-0.811126</td>\n",
       "      <td>0.126188</td>\n",
       "      <td>-1.062250</td>\n",
       "      <td>-0.501703</td>\n",
       "      <td>-0.550838</td>\n",
       "      <td>0.070068</td>\n",
       "      <td>-0.751183</td>\n",
       "      <td>-0.675598</td>\n",
       "      <td>-0.754193</td>\n",
       "      <td>2.388699</td>\n",
       "      <td>-0.982607</td>\n",
       "    </tr>\n",
       "    <tr>\n",
       "      <th>2</th>\n",
       "      <td>-0.664380</td>\n",
       "      <td>0.430462</td>\n",
       "      <td>-0.421277</td>\n",
       "      <td>-1.188532</td>\n",
       "      <td>-0.220261</td>\n",
       "      <td>0.386112</td>\n",
       "      <td>-0.719018</td>\n",
       "      <td>-0.738471</td>\n",
       "      <td>-0.754193</td>\n",
       "      <td>2.388699</td>\n",
       "      <td>-0.982607</td>\n",
       "    </tr>\n",
       "    <tr>\n",
       "      <th>4</th>\n",
       "      <td>-1.324737</td>\n",
       "      <td>1.089724</td>\n",
       "      <td>-0.563715</td>\n",
       "      <td>-0.938776</td>\n",
       "      <td>-0.368543</td>\n",
       "      <td>1.107627</td>\n",
       "      <td>-1.507068</td>\n",
       "      <td>-1.417695</td>\n",
       "      <td>-0.754193</td>\n",
       "      <td>2.388699</td>\n",
       "      <td>-0.982607</td>\n",
       "    </tr>\n",
       "    <tr>\n",
       "      <th>5</th>\n",
       "      <td>-0.847812</td>\n",
       "      <td>1.748985</td>\n",
       "      <td>-0.777373</td>\n",
       "      <td>-0.689020</td>\n",
       "      <td>0.510134</td>\n",
       "      <td>1.879435</td>\n",
       "      <td>-1.297994</td>\n",
       "      <td>-1.405186</td>\n",
       "      <td>-0.754193</td>\n",
       "      <td>2.388699</td>\n",
       "      <td>1.017700</td>\n",
       "    </tr>\n",
       "    <tr>\n",
       "      <th>...</th>\n",
       "      <td>...</td>\n",
       "      <td>...</td>\n",
       "      <td>...</td>\n",
       "      <td>...</td>\n",
       "      <td>...</td>\n",
       "      <td>...</td>\n",
       "      <td>...</td>\n",
       "      <td>...</td>\n",
       "      <td>...</td>\n",
       "      <td>...</td>\n",
       "      <td>...</td>\n",
       "    </tr>\n",
       "    <tr>\n",
       "      <th>338</th>\n",
       "      <td>0.601305</td>\n",
       "      <td>-1.750171</td>\n",
       "      <td>0.931890</td>\n",
       "      <td>0.903175</td>\n",
       "      <td>-0.903628</td>\n",
       "      <td>-1.642135</td>\n",
       "      <td>1.082241</td>\n",
       "      <td>1.690550</td>\n",
       "      <td>-0.754193</td>\n",
       "      <td>-0.418638</td>\n",
       "      <td>-0.982607</td>\n",
       "    </tr>\n",
       "    <tr>\n",
       "      <th>340</th>\n",
       "      <td>0.527932</td>\n",
       "      <td>-1.445897</td>\n",
       "      <td>1.003109</td>\n",
       "      <td>0.809516</td>\n",
       "      <td>-0.707537</td>\n",
       "      <td>-1.392157</td>\n",
       "      <td>0.921415</td>\n",
       "      <td>1.343164</td>\n",
       "      <td>-0.754193</td>\n",
       "      <td>-0.418638</td>\n",
       "      <td>-0.982607</td>\n",
       "    </tr>\n",
       "    <tr>\n",
       "      <th>341</th>\n",
       "      <td>1.188289</td>\n",
       "      <td>-0.735923</td>\n",
       "      <td>1.501644</td>\n",
       "      <td>1.933419</td>\n",
       "      <td>0.351353</td>\n",
       "      <td>-0.767211</td>\n",
       "      <td>1.275233</td>\n",
       "      <td>1.217248</td>\n",
       "      <td>-0.754193</td>\n",
       "      <td>-0.418638</td>\n",
       "      <td>1.017700</td>\n",
       "    </tr>\n",
       "    <tr>\n",
       "      <th>342</th>\n",
       "      <td>0.234440</td>\n",
       "      <td>-1.192335</td>\n",
       "      <td>0.789451</td>\n",
       "      <td>1.246590</td>\n",
       "      <td>-0.709967</td>\n",
       "      <td>-1.175658</td>\n",
       "      <td>0.583679</td>\n",
       "      <td>0.902865</td>\n",
       "      <td>-0.754193</td>\n",
       "      <td>-0.418638</td>\n",
       "      <td>-0.982607</td>\n",
       "    </tr>\n",
       "    <tr>\n",
       "      <th>343</th>\n",
       "      <td>1.096572</td>\n",
       "      <td>-0.533073</td>\n",
       "      <td>0.860670</td>\n",
       "      <td>1.496346</td>\n",
       "      <td>0.456426</td>\n",
       "      <td>-0.577941</td>\n",
       "      <td>1.130489</td>\n",
       "      <td>0.994127</td>\n",
       "      <td>-0.754193</td>\n",
       "      <td>-0.418638</td>\n",
       "      <td>1.017700</td>\n",
       "    </tr>\n",
       "  </tbody>\n",
       "</table>\n",
       "<p>342 rows × 11 columns</p>\n",
       "</div>"
      ],
      "text/plain": [
       "     culmen_length_mm  culmen_depth_mm  flipper_length_mm  body_mass_g  \\\n",
       "0           -0.884499         0.785449          -1.418347    -0.564142   \n",
       "1           -0.811126         0.126188          -1.062250    -0.501703   \n",
       "2           -0.664380         0.430462          -0.421277    -1.188532   \n",
       "4           -1.324737         1.089724          -0.563715    -0.938776   \n",
       "5           -0.847812         1.748985          -0.777373    -0.689020   \n",
       "..                ...              ...                ...          ...   \n",
       "338          0.601305        -1.750171           0.931890     0.903175   \n",
       "340          0.527932        -1.445897           1.003109     0.809516   \n",
       "341          1.188289        -0.735923           1.501644     1.933419   \n",
       "342          0.234440        -1.192335           0.789451     1.246590   \n",
       "343          1.096572        -0.533073           0.860670     1.496346   \n",
       "\n",
       "     culmen_length_mm * culmen_depth_mm  culmen_depth_mm^2  culmen_diff  \\\n",
       "0                             -0.170197           0.768371    -1.024588   \n",
       "1                             -0.550838           0.070068    -0.751183   \n",
       "2                             -0.220261           0.386112    -0.719018   \n",
       "4                             -0.368543           1.107627    -1.507068   \n",
       "5                              0.510134           1.879435    -1.297994   \n",
       "..                                  ...                ...          ...   \n",
       "338                           -0.903628          -1.642135     1.082241   \n",
       "340                           -0.707537          -1.392157     0.921415   \n",
       "341                            0.351353          -0.767211     1.275233   \n",
       "342                           -0.709967          -1.175658     0.583679   \n",
       "343                            0.456426          -0.577941     1.130489   \n",
       "\n",
       "     culmen_ratio  island_Dream  island_Torgersen  sex_MALE  \n",
       "0       -1.036429     -0.754193          2.388699  1.017700  \n",
       "1       -0.675598     -0.754193          2.388699 -0.982607  \n",
       "2       -0.738471     -0.754193          2.388699 -0.982607  \n",
       "4       -1.417695     -0.754193          2.388699 -0.982607  \n",
       "5       -1.405186     -0.754193          2.388699  1.017700  \n",
       "..            ...           ...               ...       ...  \n",
       "338      1.690550     -0.754193         -0.418638 -0.982607  \n",
       "340      1.343164     -0.754193         -0.418638 -0.982607  \n",
       "341      1.217248     -0.754193         -0.418638  1.017700  \n",
       "342      0.902865     -0.754193         -0.418638 -0.982607  \n",
       "343      0.994127     -0.754193         -0.418638  1.017700  \n",
       "\n",
       "[342 rows x 11 columns]"
      ]
     },
     "execution_count": 33,
     "metadata": {},
     "output_type": "execute_result"
    }
   ],
   "source": [
    "# estimtatorにl1正則を使用するモデルを入れると，l1正則を使って特徴量選択が可能\n",
    "sfm = SelectFromModel(estimator=LogisticRegression(penalty='l1', solver='liblinear'))\n",
    "pipeline = Pipeline(steps=[('scaler', StandardScaler()),\n",
    "                           ('feature selection', sfm)])\n",
    "pipeline.set_output(transform='pandas')\n",
    "pipeline.fit_transform(X, y)"
   ]
  },
  {
   "cell_type": "code",
   "execution_count": 34,
   "id": "866faba3-d26d-4fec-b1b0-fe9c9404c2b1",
   "metadata": {},
   "outputs": [
    {
     "data": {
      "text/plain": [
       "array([[ 0.        ,  0.        , -0.17181709,  0.        ,  0.        ,\n",
       "         0.        ,  0.08347913, -6.97999236,  0.        , -0.34716136,\n",
       "         0.89227933,  1.17716836,  0.        ],\n",
       "       [ 4.21253684,  0.        ,  0.        , -2.37198614,  0.        ,\n",
       "         0.14824286,  0.        ,  0.        ,  0.        ,  2.65961636,\n",
       "         0.        , -0.75522694,  0.        ],\n",
       "       [ 0.        , -2.76312046,  1.69339134,  1.81384312,  0.        ,\n",
       "         0.        ,  0.        ,  0.        ,  0.52411436, -0.24381919,\n",
       "         0.        ,  0.        ,  0.        ]])"
      ]
     },
     "execution_count": 34,
     "metadata": {},
     "output_type": "execute_result"
    }
   ],
   "source": [
    "# 使用したロジスティック回帰の係数(3クラス分)を確認\n",
    "sfm.estimator_.coef_"
   ]
  },
  {
   "cell_type": "code",
   "execution_count": 35,
   "id": "702e6eeb-c1b2-4a9c-8a67-ee4cf46083c8",
   "metadata": {},
   "outputs": [
    {
     "data": {
      "text/plain": [
       "array(['culmen_length_mm', 'culmen_depth_mm', 'flipper_length_mm',\n",
       "       'body_mass_g', 'culmen_length_mm * culmen_depth_mm',\n",
       "       'culmen_depth_mm^2', 'culmen_diff', 'culmen_ratio', 'island_Dream',\n",
       "       'island_Torgersen', 'sex_MALE'], dtype=object)"
      ]
     },
     "execution_count": 35,
     "metadata": {},
     "output_type": "execute_result"
    }
   ],
   "source": [
    "# 選択された特徴量のリスト\n",
    "sfm.feature_names_in_[sfm.get_support()]"
   ]
  },
  {
   "cell_type": "code",
   "execution_count": null,
   "id": "a9896459",
   "metadata": {},
   "outputs": [],
   "source": []
  }
 ],
 "metadata": {
  "kernelspec": {
   "display_name": "docker-ml-env",
   "language": "python",
   "name": "docker-ml-env"
  },
  "language_info": {
   "codemirror_mode": {
    "name": "ipython",
    "version": 3
   },
   "file_extension": ".py",
   "mimetype": "text/x-python",
   "name": "python",
   "nbconvert_exporter": "python",
   "pygments_lexer": "ipython3",
   "version": "3.10.12"
  }
 },
 "nbformat": 4,
 "nbformat_minor": 5
}

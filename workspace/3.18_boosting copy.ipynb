{
 "cells": [
  {
   "cell_type": "code",
   "execution_count": null,
   "id": "c694c112-2562-4380-866f-b19f73646ac2",
   "metadata": {},
   "outputs": [],
   "source": [
    "import seaborn as sns\n",
    "import pandas as pd\n",
    "import numpy as np\n",
    "from sklearn.preprocessing import OrdinalEncoder\n",
    "from sklearn.model_selection import train_test_split\n",
    "from sklearn.ensemble import AdaBoostClassifier, GradientBoostingRegressor, GradientBoostingClassifier\n",
    "from sklearn.metrics import roc_auc_score\n",
    "from sklearn.tree import DecisionTreeRegressor, plot_tree\n",
    "import matplotlib.pyplot as plt"
   ]
  },
  {
   "cell_type": "markdown",
   "id": "c6f4f5ef-c893-4b01-8ee5-c18bdf4d573d",
   "metadata": {},
   "source": [
    "## Boosting"
   ]
  },
  {
   "cell_type": "markdown",
   "id": "6cd15be8-76a3-4749-916d-6ad38bb0dfe9",
   "metadata": {},
   "source": [
    "### Adaboost"
   ]
  },
  {
   "cell_type": "code",
   "execution_count": null,
   "id": "4de80ab9-86c9-4ba6-bab0-e90dbecaa023",
   "metadata": {},
   "outputs": [],
   "source": [
    "# データ準備\n",
    "df = sns.load_dataset('titanic')\n",
    "df.dropna(inplace=True)\n",
    "\n",
    "# X, yを作成\n",
    "X = df.drop(['survived', 'alive'], axis=1)\n",
    "y = df['survived']\n",
    "\n",
    "# ラベルエンコーディング\n",
    "oe = \n",
    "oe.set_output(transform='pandas')\n",
    "cat_cols = X.\n",
    "X[cat_cols] = \n",
    "\n",
    "# hold-out\n",
    "X_train, X_test, y_train, y_test = \n",
    "ada = \n",
    "y_pred_ada = \n",
    "print(f\"adaboost AUC: {roc_auc_score(y_test, y_pred_ada[:, 1])}\")\n",
    "\n",
    "# 特徴量重要度\n",
    "print(ada.feature_importances_)\n",
    "plt.barh(X.columns, ada.feature_importances_)"
   ]
  },
  {
   "cell_type": "markdown",
   "id": "2b4ce153-ddee-47c2-bb92-1fa1b9b4dec4",
   "metadata": {},
   "source": [
    "### gradient boosting 回帰"
   ]
  },
  {
   "cell_type": "markdown",
   "id": "c7705c2f-71ab-43db-86b2-8a6e3ce1f41b",
   "metadata": {},
   "source": [
    "### スクラッチで実装"
   ]
  },
  {
   "cell_type": "code",
   "execution_count": null,
   "id": "f95599a1-ac88-4240-b3d6-b1f371eeb19f",
   "metadata": {},
   "outputs": [],
   "source": [
    "class MyGradientBoostingRegressor:\n",
    "        \n",
    "    # 引数はsklearnに合わせる\n",
    "    def __init__():\n",
    "    \n",
    "    def fit(self, X, y):\n",
    "        # 平均が最も損失を小さくする\n",
    "        \n",
    "    def predict(self, X):\n",
    "        "
   ]
  },
  {
   "cell_type": "code",
   "execution_count": null,
   "id": "5383c601-d3eb-410c-8ff5-8646e55d108b",
   "metadata": {},
   "outputs": [],
   "source": [
    "# データ準備\n",
    "df = sns.load_dataset('mpg')\n",
    "df.dropna(inplace=True)\n",
    "X = df['horsepower'].values.reshape(-1, 1)\n",
    "y = df['mpg'].values\n",
    "# データの散布図描画\n",
    "sns.scatterplot(x=df['horsepower'], y=df['mpg'])"
   ]
  },
  {
   "cell_type": "code",
   "execution_count": null,
   "id": "01d0f5b1-d1ea-466a-a886-21aa4b59d1e3",
   "metadata": {},
   "outputs": [],
   "source": [
    "my_gbr = MyGradientBoostingRegressor()\n",
    "my_gbr.fit(X, y)\n",
    "my_gbr.predict(X)[:10]"
   ]
  },
  {
   "cell_type": "markdown",
   "id": "c35910b8-1034-4aba-b02c-af009aefdae5",
   "metadata": {},
   "source": [
    "###　sklearnのGradientBoostingRegressorを使う"
   ]
  },
  {
   "cell_type": "code",
   "execution_count": null,
   "id": "6e49da0d-c63b-4418-b90c-37b560f9af8e",
   "metadata": {},
   "outputs": [],
   "source": [
    "lr = 0.03\n",
    "gbr = GradientBoostingRegressor(max_depth=, learning_rate=, random_state=0).fit(X, y)\n",
    "# MyGradientBoostingRegressorの結果と同じであることを確認\n",
    "gbr.predict(X)[:10]"
   ]
  },
  {
   "cell_type": "code",
   "execution_count": null,
   "id": "3176a711-2bf8-4381-b667-1ec95182f638",
   "metadata": {},
   "outputs": [],
   "source": [
    "# 弱学習器の木構描画\n",
    "model = gbr.estimators_[0][0]\n",
    "_ = plot_tree(model)"
   ]
  },
  {
   "cell_type": "code",
   "execution_count": null,
   "id": "167d3dfb-f977-4011-bbb1-e9e4edcc4e61",
   "metadata": {},
   "outputs": [],
   "source": [
    "# 予測結果が弱学習器の組み合わせになっていることを確認する\n",
    "results = []\n",
    "# 一つのデータを選択し，そのデータを使って弱学習器の予測値を得て，最終的な予測値を計算し，.predictの結果と一致するか確認する\n",
    "idx = 0\n",
    "for t in \n",
    "    result = \n",
    "    results.append()"
   ]
  },
  {
   "cell_type": "code",
   "execution_count": null,
   "id": "1555e66f-9fe7-4a11-89b4-d24df0cef9f7",
   "metadata": {},
   "outputs": [],
   "source": [
    "F0 = np.mean(y)\n",
    "Fb = F0 + np.cumsum(results)\n",
    "Fb"
   ]
  },
  {
   "cell_type": "code",
   "execution_count": null,
   "id": "53a99614-793c-47bc-a553-dfbb5e2b33b5",
   "metadata": {},
   "outputs": [],
   "source": [
    "plt.plot(Fb)"
   ]
  },
  {
   "cell_type": "markdown",
   "id": "f14ecf7c-519e-4edc-b4d2-9e72c63d3d32",
   "metadata": {},
   "source": [
    "### gradient boosting 分類"
   ]
  },
  {
   "cell_type": "markdown",
   "id": "6b8e843b-8d99-4b68-88a0-ee991fbad798",
   "metadata": {},
   "source": [
    "### スクラッチ実装"
   ]
  },
  {
   "cell_type": "markdown",
   "id": "29231def-2e1d-4a94-ba89-1ee792778cbf",
   "metadata": {},
   "source": [
    "#### ヒント"
   ]
  },
  {
   "cell_type": "code",
   "execution_count": null,
   "id": "cd1f1ec1-9061-47ff-846b-e25468e02206",
   "metadata": {},
   "outputs": [],
   "source": [
    "model = DecisionTreeRegressor(max_depth=1, random_state=0).fit(X, y)\n",
    "# それぞれのデータがどの葉に落ちるかを取得\n",
    "model.apply(X)"
   ]
  },
  {
   "cell_type": "code",
   "execution_count": null,
   "id": "fb6e681d-1c85-4228-9361-0ee1b7658bcc",
   "metadata": {},
   "outputs": [],
   "source": [
    "# 決定木の葉(およびノード)の値\n",
    "model.tree_.value"
   ]
  },
  {
   "cell_type": "code",
   "execution_count": null,
   "id": "1533f712-f910-4303-92d9-51dfd660ffbd",
   "metadata": {},
   "outputs": [],
   "source": [
    "# 上書き\n",
    "model.tree_.value[1, 0, 0] = 3"
   ]
  },
  {
   "cell_type": "code",
   "execution_count": null,
   "id": "14d6a3bf-a751-4eee-8d16-dc4d9ed0c578",
   "metadata": {},
   "outputs": [],
   "source": [
    "# id=1の値が3に上書きされている\n",
    "plot_tree(model)"
   ]
  },
  {
   "cell_type": "code",
   "execution_count": null,
   "id": "88dc68b2-8670-455a-ac53-4a84bc507402",
   "metadata": {},
   "outputs": [],
   "source": [
    "# 予測結果も，id=1は全て3になっている\n",
    "model.predict(X)[:30]"
   ]
  },
  {
   "cell_type": "code",
   "execution_count": null,
   "id": "5dfb4c7c-1df2-44bd-aba2-2e7dc7a02720",
   "metadata": {},
   "outputs": [],
   "source": [
    "class MyGradientBoostingClassifier:\n",
    "    \n",
    "    def __init__(self,\n",
    "                 learning_rate=0.03,\n",
    "                 n_estimators=100,\n",
    "                 max_depth=1,\n",
    "                 random_state=0\n",
    "                 ):\n",
    "        self.learning_rate = learning_rate\n",
    "        self.n_estimators = n_estimators\n",
    "        self.max_depth = max_depth\n",
    "        self.random_state = random_state\n",
    "        self.estimators = []\n",
    "        \n",
    "    def fit(self, X, y):\n",
    "        self.F0 = np.log(y.mean()/(1-y.mean()))\n",
    "        F0 = np.full(len(y), F0)  # F0のvector化\n",
    "        Fb = F0\n",
    "        \n",
    "        for _ in range(self.n_estimators):\n",
    "            p = 1 / (1 + np.exp(-Fb))\n",
    "            r = y - p\n",
    "            estimator = DecisionTreeRegressor(max_depth=self.max_depth, random_state=self.random_state)\n",
    "            estimator.fit(X, r)  # 残差rを目的変数として学習\n",
    "            # model.tree_.valueの値を上書きすることによって,弱学習器の出力結果を上書き\n",
    "            # 各葉のidを取得しそれぞれの葉に対して処理を行う\n",
    "            X_leafs = estimator.apply(X)\n",
    "            leaf_ids = np.unique(X_leafs)\n",
    "            for leaf_id in leaf_ids:\n",
    "                # 弱学習器の出力の値を計算\n",
    "                fltr = X_leafs == leaf_id\n",
    "                num = r[fltr].sum()\n",
    "                # F0のときは全てのデータが同じpになるためscalerで良いが,\n",
    "                # 1回目のiteration以降は各データXに別のpを割り当てるのでvectorで処理する必要がある\n",
    "                # np.arrayの形に変換することで特定のデータをfilterして処理することが可能\n",
    "                den = (p[fltr]*(1-p[fltr])).sum()\n",
    "                estimator_pred_proba = num / den\n",
    "                # 弱学習器の出力を上書き\n",
    "                estimator.tree_.value[leaf_id, 0, 0] = estimator_pred_proba\n",
    "                # 当該データのFbを更新\n",
    "                Fb[fltr] += self.learning_rate * estimator_pred_proba\n",
    "\n",
    "            self.estimators.append(estimator)\n",
    "\n",
    "        \n",
    "    def predict_proba(self, X):\n",
    "        Fb = np.full(X.shape[0], self.F0)\n",
    "        \n",
    "        for estimator in self.estimators:\n",
    "            Fb += self.learning_rate * estimator.predict(X)\n",
    "        \n",
    "        return 1 / (1 + np.exp(-Fb))"
   ]
  },
  {
   "cell_type": "code",
   "execution_count": null,
   "id": "5889cd5f-50a1-4334-9e9a-3ac780151ca8",
   "metadata": {},
   "outputs": [],
   "source": [
    "my_gbc = MyGradientBoostingClassifier()\n",
    "my_gbc.fit(X_train, y_train) # titanicデータセット\n",
    "my_gbc.predict_proba(X_test)"
   ]
  },
  {
   "cell_type": "markdown",
   "id": "b2d02720-bf33-46f6-8d50-1a54794bf63b",
   "metadata": {},
   "source": [
    "### sklearnのGradientBoostingClassifierを使う"
   ]
  },
  {
   "cell_type": "code",
   "execution_count": null,
   "id": "371adc8b-8bd8-443e-8542-d994a358654c",
   "metadata": {},
   "outputs": [],
   "source": [
    "gbc = GradientBoostingClassifier(n_estimators=100, learning_rate=0.03, max_depth=1, random_state=0).fit(X_train, y_train)\n",
    "# MyGradientBoostingClassifierの結果と等しいことを確認\n",
    "gbc.predict_proba(X_test)[:, 1] == my_gbc.predict_proba(X_test)"
   ]
  },
  {
   "cell_type": "code",
   "execution_count": null,
   "id": "96df1c56-8399-4867-96c7-902b2877298b",
   "metadata": {},
   "outputs": [],
   "source": [
    "# 評価\n",
    "print(f\"grad boost AUC: {roc_auc_score(y_test, gbc.predict_proba(X_test)[:, 1])}\")"
   ]
  },
  {
   "cell_type": "code",
   "execution_count": null,
   "id": "1c075794-153b-4f81-928d-959630780cb6",
   "metadata": {},
   "outputs": [],
   "source": [
    "# 弱学習器の予測値からモデル全体の予測値が算出されることを確認する\n",
    "results = []\n",
    "for t in gbc.estimators_:\n",
    "    result = 0.03 * t[0].predict([X_test.iloc[0]]) # idx=0のデータで確認\n",
    "    results.append(result)\n",
    "plt.plot(results)"
   ]
  },
  {
   "cell_type": "code",
   "execution_count": null,
   "id": "b4396655-b4d3-4251-a19a-84ba25e8acfc",
   "metadata": {},
   "outputs": [],
   "source": [
    "F0 = np.log(y_train.mean()/(1-y_train.mean()))\n",
    "Fb = F0 + np.cumsum(results)[-1]\n",
    "predict = 1 / (1 + np.exp(-Fb))\n",
    "print(predict)"
   ]
  },
  {
   "cell_type": "code",
   "execution_count": null,
   "id": "349f78bb-7c39-4d83-861b-9eb61c9ca9dc",
   "metadata": {},
   "outputs": [],
   "source": [
    "# 弱学習器の数に対しての予測値の推移を描画\n",
    "plt.plot(np.cumsum(results)+F0)"
   ]
  }
 ],
 "metadata": {
  "kernelspec": {
   "display_name": "Python 3 (ipykernel)",
   "language": "python",
   "name": "python3"
  },
  "language_info": {
   "codemirror_mode": {
    "name": "ipython",
    "version": 3
   },
   "file_extension": ".py",
   "mimetype": "text/x-python",
   "name": "python",
   "nbconvert_exporter": "python",
   "pygments_lexer": "ipython3",
   "version": "3.9.13"
  }
 },
 "nbformat": 4,
 "nbformat_minor": 5
}
